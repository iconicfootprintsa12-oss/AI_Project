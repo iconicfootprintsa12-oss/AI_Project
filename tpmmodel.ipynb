{
 "cells": [
  {
   "cell_type": "code",
   "execution_count": 2,
   "id": "48209ec3-62b1-41a1-be09-23d05f3cbe9b",
   "metadata": {},
   "outputs": [],
   "source": [
    "import pandas as pd\n",
    "import numpy as np\n",
    "from sklearn.ensemble import RandomForestClassifier\n",
    "from sklearn.model_selection import train_test_split\n",
    "from sklearn.metrics import classification_report, confusion_matrix, roc_auc_score\n",
    "import joblib\n",
    "import matplotlib.pyplot as plt\n",
    "import seaborn as sns\n",
    "from sklearn.preprocessing import StandardScaler, LabelEncoder\n",
    "import warnings\n",
    "warnings.filterwarnings('ignore')\n"
   ]
  },
  {
   "cell_type": "code",
   "execution_count": 3,
   "id": "ac9297f4-c2e7-479c-b704-a4b1c0b82bb5",
   "metadata": {},
   "outputs": [],
   "source": [
    "df = pd.read_csv(r\"F:\\AI\\Project\\enhanced_fraud_dataset.csv\")"
   ]
  },
  {
   "cell_type": "code",
   "execution_count": 4,
   "id": "f070de3d-b426-4e6d-8e39-5de85475e4a9",
   "metadata": {},
   "outputs": [
    {
     "data": {
      "text/html": [
       "<div>\n",
       "<style scoped>\n",
       "    .dataframe tbody tr th:only-of-type {\n",
       "        vertical-align: middle;\n",
       "    }\n",
       "\n",
       "    .dataframe tbody tr th {\n",
       "        vertical-align: top;\n",
       "    }\n",
       "\n",
       "    .dataframe thead th {\n",
       "        text-align: right;\n",
       "    }\n",
       "</style>\n",
       "<table border=\"1\" class=\"dataframe\">\n",
       "  <thead>\n",
       "    <tr style=\"text-align: right;\">\n",
       "      <th></th>\n",
       "      <th>transaction_id</th>\n",
       "      <th>transaction_date</th>\n",
       "      <th>step</th>\n",
       "      <th>hour_of_day</th>\n",
       "      <th>is_weekend</th>\n",
       "      <th>type</th>\n",
       "      <th>amount</th>\n",
       "      <th>amount_category</th>\n",
       "      <th>is_round_amount</th>\n",
       "      <th>nameOrig</th>\n",
       "      <th>...</th>\n",
       "      <th>latitudeDest</th>\n",
       "      <th>longitudeDest</th>\n",
       "      <th>distance_km</th>\n",
       "      <th>time_since_last_tx</th>\n",
       "      <th>anomalyFlags</th>\n",
       "      <th>anomaly_categories</th>\n",
       "      <th>anomaly_count</th>\n",
       "      <th>risk_score</th>\n",
       "      <th>risk_category</th>\n",
       "      <th>isFraud</th>\n",
       "    </tr>\n",
       "  </thead>\n",
       "  <tbody>\n",
       "    <tr>\n",
       "      <th>0</th>\n",
       "      <td>TX000000</td>\n",
       "      <td>2024-01-05 07:00:00</td>\n",
       "      <td>103</td>\n",
       "      <td>7</td>\n",
       "      <td>0</td>\n",
       "      <td>PAYMENT</td>\n",
       "      <td>673.812297</td>\n",
       "      <td>MEDIUM</td>\n",
       "      <td>0</td>\n",
       "      <td>C000000</td>\n",
       "      <td>...</td>\n",
       "      <td>-29.339174</td>\n",
       "      <td>27.634174</td>\n",
       "      <td>30.504904</td>\n",
       "      <td>24.0</td>\n",
       "      <td>NORMAL</td>\n",
       "      <td>NO_ANOMALY</td>\n",
       "      <td>0</td>\n",
       "      <td>0</td>\n",
       "      <td>NO_RISK</td>\n",
       "      <td>0</td>\n",
       "    </tr>\n",
       "    <tr>\n",
       "      <th>1</th>\n",
       "      <td>TX000001</td>\n",
       "      <td>2024-01-19 04:00:00</td>\n",
       "      <td>436</td>\n",
       "      <td>4</td>\n",
       "      <td>0</td>\n",
       "      <td>PAYMENT</td>\n",
       "      <td>146.861217</td>\n",
       "      <td>MEDIUM</td>\n",
       "      <td>0</td>\n",
       "      <td>C000001</td>\n",
       "      <td>...</td>\n",
       "      <td>-29.436269</td>\n",
       "      <td>27.098685</td>\n",
       "      <td>36.565861</td>\n",
       "      <td>24.0</td>\n",
       "      <td>LARGE_BALANCE_DROP_80PCT</td>\n",
       "      <td>BALANCE</td>\n",
       "      <td>1</td>\n",
       "      <td>20</td>\n",
       "      <td>LOW_RISK</td>\n",
       "      <td>0</td>\n",
       "    </tr>\n",
       "    <tr>\n",
       "      <th>2</th>\n",
       "      <td>TX000002</td>\n",
       "      <td>2024-01-12 07:00:00</td>\n",
       "      <td>271</td>\n",
       "      <td>7</td>\n",
       "      <td>0</td>\n",
       "      <td>DEBIT</td>\n",
       "      <td>959.488104</td>\n",
       "      <td>MEDIUM</td>\n",
       "      <td>0</td>\n",
       "      <td>C000002</td>\n",
       "      <td>...</td>\n",
       "      <td>-29.632666</td>\n",
       "      <td>28.214545</td>\n",
       "      <td>54.127464</td>\n",
       "      <td>24.0</td>\n",
       "      <td>NORMAL</td>\n",
       "      <td>NO_ANOMALY</td>\n",
       "      <td>0</td>\n",
       "      <td>0</td>\n",
       "      <td>NO_RISK</td>\n",
       "      <td>0</td>\n",
       "    </tr>\n",
       "    <tr>\n",
       "      <th>3</th>\n",
       "      <td>TX000003</td>\n",
       "      <td>2024-01-05 11:00:00</td>\n",
       "      <td>107</td>\n",
       "      <td>11</td>\n",
       "      <td>0</td>\n",
       "      <td>TRANSFER</td>\n",
       "      <td>1014.469964</td>\n",
       "      <td>LARGE</td>\n",
       "      <td>0</td>\n",
       "      <td>C000003</td>\n",
       "      <td>...</td>\n",
       "      <td>-29.121128</td>\n",
       "      <td>28.429114</td>\n",
       "      <td>89.556562</td>\n",
       "      <td>24.0</td>\n",
       "      <td>NORMAL</td>\n",
       "      <td>NO_ANOMALY</td>\n",
       "      <td>0</td>\n",
       "      <td>0</td>\n",
       "      <td>NO_RISK</td>\n",
       "      <td>0</td>\n",
       "    </tr>\n",
       "    <tr>\n",
       "      <th>4</th>\n",
       "      <td>TX000004</td>\n",
       "      <td>2024-01-04 00:00:00</td>\n",
       "      <td>72</td>\n",
       "      <td>0</td>\n",
       "      <td>0</td>\n",
       "      <td>PAYMENT</td>\n",
       "      <td>1083.331991</td>\n",
       "      <td>LARGE</td>\n",
       "      <td>0</td>\n",
       "      <td>C000004</td>\n",
       "      <td>...</td>\n",
       "      <td>-29.272631</td>\n",
       "      <td>27.543695</td>\n",
       "      <td>29.198106</td>\n",
       "      <td>24.0</td>\n",
       "      <td>NORMAL</td>\n",
       "      <td>NO_ANOMALY</td>\n",
       "      <td>0</td>\n",
       "      <td>0</td>\n",
       "      <td>NO_RISK</td>\n",
       "      <td>0</td>\n",
       "    </tr>\n",
       "  </tbody>\n",
       "</table>\n",
       "<p>5 rows × 28 columns</p>\n",
       "</div>"
      ],
      "text/plain": [
       "  transaction_id     transaction_date  step  hour_of_day  is_weekend  \\\n",
       "0       TX000000  2024-01-05 07:00:00   103            7           0   \n",
       "1       TX000001  2024-01-19 04:00:00   436            4           0   \n",
       "2       TX000002  2024-01-12 07:00:00   271            7           0   \n",
       "3       TX000003  2024-01-05 11:00:00   107           11           0   \n",
       "4       TX000004  2024-01-04 00:00:00    72            0           0   \n",
       "\n",
       "       type       amount amount_category  is_round_amount nameOrig  ...  \\\n",
       "0   PAYMENT   673.812297          MEDIUM                0  C000000  ...   \n",
       "1   PAYMENT   146.861217          MEDIUM                0  C000001  ...   \n",
       "2     DEBIT   959.488104          MEDIUM                0  C000002  ...   \n",
       "3  TRANSFER  1014.469964           LARGE                0  C000003  ...   \n",
       "4   PAYMENT  1083.331991           LARGE                0  C000004  ...   \n",
       "\n",
       "   latitudeDest  longitudeDest distance_km  time_since_last_tx  \\\n",
       "0    -29.339174      27.634174   30.504904                24.0   \n",
       "1    -29.436269      27.098685   36.565861                24.0   \n",
       "2    -29.632666      28.214545   54.127464                24.0   \n",
       "3    -29.121128      28.429114   89.556562                24.0   \n",
       "4    -29.272631      27.543695   29.198106                24.0   \n",
       "\n",
       "               anomalyFlags  anomaly_categories  anomaly_count  risk_score  \\\n",
       "0                    NORMAL          NO_ANOMALY              0           0   \n",
       "1  LARGE_BALANCE_DROP_80PCT             BALANCE              1          20   \n",
       "2                    NORMAL          NO_ANOMALY              0           0   \n",
       "3                    NORMAL          NO_ANOMALY              0           0   \n",
       "4                    NORMAL          NO_ANOMALY              0           0   \n",
       "\n",
       "   risk_category  isFraud  \n",
       "0        NO_RISK        0  \n",
       "1       LOW_RISK        0  \n",
       "2        NO_RISK        0  \n",
       "3        NO_RISK        0  \n",
       "4        NO_RISK        0  \n",
       "\n",
       "[5 rows x 28 columns]"
      ]
     },
     "execution_count": 4,
     "metadata": {},
     "output_type": "execute_result"
    }
   ],
   "source": [
    "df.head()"
   ]
  },
  {
   "cell_type": "code",
   "execution_count": 5,
   "id": "b331e11b-7f46-4699-970f-0321a93819b5",
   "metadata": {},
   "outputs": [
    {
     "name": "stdout",
     "output_type": "stream",
     "text": [
      "<class 'pandas.core.frame.DataFrame'>\n",
      "RangeIndex: 2000 entries, 0 to 1999\n",
      "Data columns (total 28 columns):\n",
      " #   Column                   Non-Null Count  Dtype  \n",
      "---  ------                   --------------  -----  \n",
      " 0   transaction_id           2000 non-null   object \n",
      " 1   transaction_date         2000 non-null   object \n",
      " 2   step                     2000 non-null   int64  \n",
      " 3   hour_of_day              2000 non-null   int64  \n",
      " 4   is_weekend               2000 non-null   int64  \n",
      " 5   type                     2000 non-null   object \n",
      " 6   amount                   2000 non-null   float64\n",
      " 7   amount_category          2000 non-null   object \n",
      " 8   is_round_amount          2000 non-null   int64  \n",
      " 9   nameOrig                 2000 non-null   object \n",
      " 10  oldbalanceOrg            2000 non-null   float64\n",
      " 11  newbalanceOrig           2000 non-null   float64\n",
      " 12  nameDest                 2000 non-null   object \n",
      " 13  oldbalanceDest           2000 non-null   float64\n",
      " 14  newbalanceDest           2000 non-null   float64\n",
      " 15  amount_to_balance_ratio  2000 non-null   float64\n",
      " 16  latitudeOrig             2000 non-null   float64\n",
      " 17  longitudeOrig            2000 non-null   float64\n",
      " 18  latitudeDest             2000 non-null   float64\n",
      " 19  longitudeDest            2000 non-null   float64\n",
      " 20  distance_km              2000 non-null   float64\n",
      " 21  time_since_last_tx       2000 non-null   float64\n",
      " 22  anomalyFlags             2000 non-null   object \n",
      " 23  anomaly_categories       1998 non-null   object \n",
      " 24  anomaly_count            2000 non-null   int64  \n",
      " 25  risk_score               2000 non-null   int64  \n",
      " 26  risk_category            2000 non-null   object \n",
      " 27  isFraud                  2000 non-null   int64  \n",
      "dtypes: float64(12), int64(7), object(9)\n",
      "memory usage: 437.6+ KB\n"
     ]
    }
   ],
   "source": [
    "df.info()"
   ]
  },
  {
   "cell_type": "code",
   "execution_count": 6,
   "id": "b1c208bc-ba1c-48f9-a598-7f8aabbbffef",
   "metadata": {},
   "outputs": [
    {
     "data": {
      "text/plain": [
       "<bound method DataFrame.isnull of      transaction_id     transaction_date  step  hour_of_day  is_weekend  \\\n",
       "0          TX000000  2024-01-05 07:00:00   103            7           0   \n",
       "1          TX000001  2024-01-19 04:00:00   436            4           0   \n",
       "2          TX000002  2024-01-12 07:00:00   271            7           0   \n",
       "3          TX000003  2024-01-05 11:00:00   107           11           0   \n",
       "4          TX000004  2024-01-04 00:00:00    72            0           0   \n",
       "...             ...                  ...   ...          ...         ...   \n",
       "1995       TX001995  2024-01-06 01:00:00   121            1           1   \n",
       "1996       TX001996  2024-01-05 11:00:00   107           11           0   \n",
       "1997       TX001997  2024-01-29 15:00:00   687           15           0   \n",
       "1998       TX001998  2024-01-09 12:00:00   204           12           0   \n",
       "1999       TX001999  2024-01-07 21:00:00   165           21           1   \n",
       "\n",
       "          type       amount amount_category  is_round_amount nameOrig  ...  \\\n",
       "0      PAYMENT   673.812297          MEDIUM                0  C000000  ...   \n",
       "1      PAYMENT   146.861217          MEDIUM                0  C000001  ...   \n",
       "2        DEBIT   959.488104          MEDIUM                0  C000002  ...   \n",
       "3     TRANSFER  1014.469964           LARGE                0  C000003  ...   \n",
       "4      PAYMENT  1083.331991           LARGE                0  C000004  ...   \n",
       "...        ...          ...             ...              ...      ...  ...   \n",
       "1995  TRANSFER  2363.383774           LARGE                0  C001995  ...   \n",
       "1996   PAYMENT   124.673846          MEDIUM                0  C001996  ...   \n",
       "1997  TRANSFER  1568.590219           LARGE                0  C001997  ...   \n",
       "1998  TRANSFER    39.401842           SMALL                0  C001998  ...   \n",
       "1999   PAYMENT   942.691673          MEDIUM                0  C001999  ...   \n",
       "\n",
       "      latitudeDest  longitudeDest distance_km  time_since_last_tx  \\\n",
       "0       -29.339174      27.634174   30.504904                24.0   \n",
       "1       -29.436269      27.098685   36.565861                24.0   \n",
       "2       -29.632666      28.214545   54.127464                24.0   \n",
       "3       -29.121128      28.429114   89.556562                24.0   \n",
       "4       -29.272631      27.543695   29.198106                24.0   \n",
       "...            ...            ...         ...                 ...   \n",
       "1995    -29.892360      27.788926  114.033159                24.0   \n",
       "1996    -29.415933      27.379301   41.263118                24.0   \n",
       "1997    -29.784777      27.231911   30.273721                24.0   \n",
       "1998    -29.912068      27.309822   66.067066                24.0   \n",
       "1999    -29.712606      27.600416    4.925112                24.0   \n",
       "\n",
       "                                      anomalyFlags  anomaly_categories  \\\n",
       "0                                           NORMAL          NO_ANOMALY   \n",
       "1                         LARGE_BALANCE_DROP_80PCT             BALANCE   \n",
       "2                                           NORMAL          NO_ANOMALY   \n",
       "3                                           NORMAL          NO_ANOMALY   \n",
       "4                                           NORMAL          NO_ANOMALY   \n",
       "...                                            ...                 ...   \n",
       "1995  LARGE_BALANCE_DROP_80PCT|FIRST_TIME_LARGE_TX    BALANCE|TEMPORAL   \n",
       "1996                                        NORMAL          NO_ANOMALY   \n",
       "1997                                        NORMAL          NO_ANOMALY   \n",
       "1998                                        NORMAL          NO_ANOMALY   \n",
       "1999                                        NORMAL          NO_ANOMALY   \n",
       "\n",
       "      anomaly_count  risk_score  risk_category  isFraud  \n",
       "0                 0           0        NO_RISK        0  \n",
       "1                 1          20       LOW_RISK        0  \n",
       "2                 0           0        NO_RISK        0  \n",
       "3                 0           0        NO_RISK        0  \n",
       "4                 0           0        NO_RISK        0  \n",
       "...             ...         ...            ...      ...  \n",
       "1995              2          35    MEDIUM_RISK        0  \n",
       "1996              0           0        NO_RISK        0  \n",
       "1997              0           0        NO_RISK        0  \n",
       "1998              0           0        NO_RISK        0  \n",
       "1999              0           0        NO_RISK        0  \n",
       "\n",
       "[2000 rows x 28 columns]>"
      ]
     },
     "execution_count": 6,
     "metadata": {},
     "output_type": "execute_result"
    }
   ],
   "source": [
    "df.isnull"
   ]
  },
  {
   "cell_type": "code",
   "execution_count": 7,
   "id": "a25772ad-1da4-42be-8609-cf6437cbf736",
   "metadata": {},
   "outputs": [
    {
     "data": {
      "text/html": [
       "<div>\n",
       "<style scoped>\n",
       "    .dataframe tbody tr th:only-of-type {\n",
       "        vertical-align: middle;\n",
       "    }\n",
       "\n",
       "    .dataframe tbody tr th {\n",
       "        vertical-align: top;\n",
       "    }\n",
       "\n",
       "    .dataframe thead th {\n",
       "        text-align: right;\n",
       "    }\n",
       "</style>\n",
       "<table border=\"1\" class=\"dataframe\">\n",
       "  <thead>\n",
       "    <tr style=\"text-align: right;\">\n",
       "      <th></th>\n",
       "      <th>step</th>\n",
       "      <th>hour_of_day</th>\n",
       "      <th>is_weekend</th>\n",
       "      <th>amount</th>\n",
       "      <th>is_round_amount</th>\n",
       "      <th>oldbalanceOrg</th>\n",
       "      <th>newbalanceOrig</th>\n",
       "      <th>oldbalanceDest</th>\n",
       "      <th>newbalanceDest</th>\n",
       "      <th>amount_to_balance_ratio</th>\n",
       "      <th>latitudeOrig</th>\n",
       "      <th>longitudeOrig</th>\n",
       "      <th>latitudeDest</th>\n",
       "      <th>longitudeDest</th>\n",
       "      <th>distance_km</th>\n",
       "      <th>time_since_last_tx</th>\n",
       "      <th>anomaly_count</th>\n",
       "      <th>risk_score</th>\n",
       "      <th>isFraud</th>\n",
       "    </tr>\n",
       "  </thead>\n",
       "  <tbody>\n",
       "    <tr>\n",
       "      <th>count</th>\n",
       "      <td>2000.000000</td>\n",
       "      <td>2000.00000</td>\n",
       "      <td>2000.00000</td>\n",
       "      <td>2000.000000</td>\n",
       "      <td>2000.0</td>\n",
       "      <td>2000.000000</td>\n",
       "      <td>2000.000000</td>\n",
       "      <td>2000.000000</td>\n",
       "      <td>2000.000000</td>\n",
       "      <td>2000.000000</td>\n",
       "      <td>2000.000000</td>\n",
       "      <td>2000.000000</td>\n",
       "      <td>2000.000000</td>\n",
       "      <td>2000.000000</td>\n",
       "      <td>2000.000000</td>\n",
       "      <td>2000.0</td>\n",
       "      <td>2000.000000</td>\n",
       "      <td>2000.000000</td>\n",
       "      <td>2000.000000</td>\n",
       "    </tr>\n",
       "    <tr>\n",
       "      <th>mean</th>\n",
       "      <td>366.025000</td>\n",
       "      <td>11.59300</td>\n",
       "      <td>0.25650</td>\n",
       "      <td>1359.399768</td>\n",
       "      <td>0.0</td>\n",
       "      <td>4823.319460</td>\n",
       "      <td>4488.116515</td>\n",
       "      <td>3045.010815</td>\n",
       "      <td>3801.314032</td>\n",
       "      <td>2.341993</td>\n",
       "      <td>-29.495531</td>\n",
       "      <td>27.754335</td>\n",
       "      <td>-29.503772</td>\n",
       "      <td>27.739181</td>\n",
       "      <td>65.925682</td>\n",
       "      <td>24.0</td>\n",
       "      <td>0.609000</td>\n",
       "      <td>10.397500</td>\n",
       "      <td>0.050000</td>\n",
       "    </tr>\n",
       "    <tr>\n",
       "      <th>std</th>\n",
       "      <td>218.697542</td>\n",
       "      <td>6.85703</td>\n",
       "      <td>0.43681</td>\n",
       "      <td>1803.365225</td>\n",
       "      <td>0.0</td>\n",
       "      <td>4785.040311</td>\n",
       "      <td>4965.920851</td>\n",
       "      <td>3017.163337</td>\n",
       "      <td>3408.931814</td>\n",
       "      <td>30.312277</td>\n",
       "      <td>0.288057</td>\n",
       "      <td>0.429858</td>\n",
       "      <td>0.288327</td>\n",
       "      <td>0.426430</td>\n",
       "      <td>32.180216</td>\n",
       "      <td>0.0</td>\n",
       "      <td>1.055782</td>\n",
       "      <td>17.860963</td>\n",
       "      <td>0.217999</td>\n",
       "    </tr>\n",
       "    <tr>\n",
       "      <th>min</th>\n",
       "      <td>1.000000</td>\n",
       "      <td>0.00000</td>\n",
       "      <td>0.00000</td>\n",
       "      <td>0.013944</td>\n",
       "      <td>0.0</td>\n",
       "      <td>0.932728</td>\n",
       "      <td>0.000000</td>\n",
       "      <td>4.069332</td>\n",
       "      <td>0.000000</td>\n",
       "      <td>0.000004</td>\n",
       "      <td>-29.999636</td>\n",
       "      <td>27.000178</td>\n",
       "      <td>-29.999893</td>\n",
       "      <td>27.000263</td>\n",
       "      <td>0.985574</td>\n",
       "      <td>24.0</td>\n",
       "      <td>0.000000</td>\n",
       "      <td>0.000000</td>\n",
       "      <td>0.000000</td>\n",
       "    </tr>\n",
       "    <tr>\n",
       "      <th>25%</th>\n",
       "      <td>171.750000</td>\n",
       "      <td>6.00000</td>\n",
       "      <td>0.00000</td>\n",
       "      <td>271.847462</td>\n",
       "      <td>0.0</td>\n",
       "      <td>1386.919945</td>\n",
       "      <td>680.613206</td>\n",
       "      <td>908.147634</td>\n",
       "      <td>1345.892207</td>\n",
       "      <td>0.066810</td>\n",
       "      <td>-29.738739</td>\n",
       "      <td>27.387717</td>\n",
       "      <td>-29.748055</td>\n",
       "      <td>27.375901</td>\n",
       "      <td>40.253623</td>\n",
       "      <td>24.0</td>\n",
       "      <td>0.000000</td>\n",
       "      <td>0.000000</td>\n",
       "      <td>0.000000</td>\n",
       "    </tr>\n",
       "    <tr>\n",
       "      <th>50%</th>\n",
       "      <td>363.000000</td>\n",
       "      <td>12.00000</td>\n",
       "      <td>0.00000</td>\n",
       "      <td>699.170484</td>\n",
       "      <td>0.0</td>\n",
       "      <td>3352.789897</td>\n",
       "      <td>2949.659697</td>\n",
       "      <td>2155.907409</td>\n",
       "      <td>2953.954683</td>\n",
       "      <td>0.218509</td>\n",
       "      <td>-29.492550</td>\n",
       "      <td>27.765066</td>\n",
       "      <td>-29.506368</td>\n",
       "      <td>27.733256</td>\n",
       "      <td>63.798328</td>\n",
       "      <td>24.0</td>\n",
       "      <td>0.000000</td>\n",
       "      <td>0.000000</td>\n",
       "      <td>0.000000</td>\n",
       "    </tr>\n",
       "    <tr>\n",
       "      <th>75%</th>\n",
       "      <td>556.000000</td>\n",
       "      <td>17.00000</td>\n",
       "      <td>1.00000</td>\n",
       "      <td>1662.655299</td>\n",
       "      <td>0.0</td>\n",
       "      <td>6755.655516</td>\n",
       "      <td>6594.573070</td>\n",
       "      <td>4289.112512</td>\n",
       "      <td>5319.764511</td>\n",
       "      <td>0.798522</td>\n",
       "      <td>-29.255984</td>\n",
       "      <td>28.127591</td>\n",
       "      <td>-29.252823</td>\n",
       "      <td>28.088547</td>\n",
       "      <td>89.251004</td>\n",
       "      <td>24.0</td>\n",
       "      <td>1.000000</td>\n",
       "      <td>20.000000</td>\n",
       "      <td>0.000000</td>\n",
       "    </tr>\n",
       "    <tr>\n",
       "      <th>max</th>\n",
       "      <td>743.000000</td>\n",
       "      <td>23.00000</td>\n",
       "      <td>1.00000</td>\n",
       "      <td>16189.292106</td>\n",
       "      <td>0.0</td>\n",
       "      <td>30209.206574</td>\n",
       "      <td>29301.729679</td>\n",
       "      <td>24779.202716</td>\n",
       "      <td>24962.950134</td>\n",
       "      <td>1284.976894</td>\n",
       "      <td>-29.000185</td>\n",
       "      <td>28.498636</td>\n",
       "      <td>-29.000241</td>\n",
       "      <td>28.496049</td>\n",
       "      <td>165.802045</td>\n",
       "      <td>24.0</td>\n",
       "      <td>5.000000</td>\n",
       "      <td>80.000000</td>\n",
       "      <td>1.000000</td>\n",
       "    </tr>\n",
       "  </tbody>\n",
       "</table>\n",
       "</div>"
      ],
      "text/plain": [
       "              step  hour_of_day  is_weekend        amount  is_round_amount  \\\n",
       "count  2000.000000   2000.00000  2000.00000   2000.000000           2000.0   \n",
       "mean    366.025000     11.59300     0.25650   1359.399768              0.0   \n",
       "std     218.697542      6.85703     0.43681   1803.365225              0.0   \n",
       "min       1.000000      0.00000     0.00000      0.013944              0.0   \n",
       "25%     171.750000      6.00000     0.00000    271.847462              0.0   \n",
       "50%     363.000000     12.00000     0.00000    699.170484              0.0   \n",
       "75%     556.000000     17.00000     1.00000   1662.655299              0.0   \n",
       "max     743.000000     23.00000     1.00000  16189.292106              0.0   \n",
       "\n",
       "       oldbalanceOrg  newbalanceOrig  oldbalanceDest  newbalanceDest  \\\n",
       "count    2000.000000     2000.000000     2000.000000     2000.000000   \n",
       "mean     4823.319460     4488.116515     3045.010815     3801.314032   \n",
       "std      4785.040311     4965.920851     3017.163337     3408.931814   \n",
       "min         0.932728        0.000000        4.069332        0.000000   \n",
       "25%      1386.919945      680.613206      908.147634     1345.892207   \n",
       "50%      3352.789897     2949.659697     2155.907409     2953.954683   \n",
       "75%      6755.655516     6594.573070     4289.112512     5319.764511   \n",
       "max     30209.206574    29301.729679    24779.202716    24962.950134   \n",
       "\n",
       "       amount_to_balance_ratio  latitudeOrig  longitudeOrig  latitudeDest  \\\n",
       "count              2000.000000   2000.000000    2000.000000   2000.000000   \n",
       "mean                  2.341993    -29.495531      27.754335    -29.503772   \n",
       "std                  30.312277      0.288057       0.429858      0.288327   \n",
       "min                   0.000004    -29.999636      27.000178    -29.999893   \n",
       "25%                   0.066810    -29.738739      27.387717    -29.748055   \n",
       "50%                   0.218509    -29.492550      27.765066    -29.506368   \n",
       "75%                   0.798522    -29.255984      28.127591    -29.252823   \n",
       "max                1284.976894    -29.000185      28.498636    -29.000241   \n",
       "\n",
       "       longitudeDest  distance_km  time_since_last_tx  anomaly_count  \\\n",
       "count    2000.000000  2000.000000              2000.0    2000.000000   \n",
       "mean       27.739181    65.925682                24.0       0.609000   \n",
       "std         0.426430    32.180216                 0.0       1.055782   \n",
       "min        27.000263     0.985574                24.0       0.000000   \n",
       "25%        27.375901    40.253623                24.0       0.000000   \n",
       "50%        27.733256    63.798328                24.0       0.000000   \n",
       "75%        28.088547    89.251004                24.0       1.000000   \n",
       "max        28.496049   165.802045                24.0       5.000000   \n",
       "\n",
       "        risk_score      isFraud  \n",
       "count  2000.000000  2000.000000  \n",
       "mean     10.397500     0.050000  \n",
       "std      17.860963     0.217999  \n",
       "min       0.000000     0.000000  \n",
       "25%       0.000000     0.000000  \n",
       "50%       0.000000     0.000000  \n",
       "75%      20.000000     0.000000  \n",
       "max      80.000000     1.000000  "
      ]
     },
     "execution_count": 7,
     "metadata": {},
     "output_type": "execute_result"
    }
   ],
   "source": [
    "df.describe()"
   ]
  },
  {
   "cell_type": "code",
   "execution_count": 8,
   "id": "7ea55f15-1cf5-4d51-8d04-7bf080590ed1",
   "metadata": {},
   "outputs": [
    {
     "data": {
      "text/plain": [
       "100"
      ]
     },
     "execution_count": 8,
     "metadata": {},
     "output_type": "execute_result"
    }
   ],
   "source": [
    "df['isFraud'].sum()"
   ]
  },
  {
   "cell_type": "code",
   "execution_count": 9,
   "id": "60fef08f-91b8-4998-a999-aec58fb84f41",
   "metadata": {},
   "outputs": [
    {
     "data": {
      "text/plain": [
       "5.0"
      ]
     },
     "execution_count": 9,
     "metadata": {},
     "output_type": "execute_result"
    }
   ],
   "source": [
    "df['isFraud'].mean()*100"
   ]
  },
  {
   "cell_type": "code",
   "execution_count": 10,
   "id": "3f75013a-1dc2-43e6-9b9b-2f726dbdf140",
   "metadata": {},
   "outputs": [
    {
     "data": {
      "text/plain": [
       "['transaction_id',\n",
       " 'transaction_date',\n",
       " 'step',\n",
       " 'hour_of_day',\n",
       " 'is_weekend',\n",
       " 'type',\n",
       " 'amount',\n",
       " 'amount_category',\n",
       " 'is_round_amount',\n",
       " 'nameOrig',\n",
       " 'oldbalanceOrg',\n",
       " 'newbalanceOrig',\n",
       " 'nameDest',\n",
       " 'oldbalanceDest',\n",
       " 'newbalanceDest',\n",
       " 'amount_to_balance_ratio',\n",
       " 'latitudeOrig',\n",
       " 'longitudeOrig',\n",
       " 'latitudeDest',\n",
       " 'longitudeDest',\n",
       " 'distance_km',\n",
       " 'time_since_last_tx',\n",
       " 'anomalyFlags',\n",
       " 'anomaly_categories',\n",
       " 'anomaly_count',\n",
       " 'risk_score',\n",
       " 'risk_category',\n",
       " 'isFraud']"
      ]
     },
     "execution_count": 10,
     "metadata": {},
     "output_type": "execute_result"
    }
   ],
   "source": [
    "list(df.columns)"
   ]
  },
  {
   "cell_type": "markdown",
   "id": "32e287b8-61a4-405a-ac14-e774fcfec64a",
   "metadata": {},
   "source": [
    "FEATURE ENGINEERING & PREPROCESSING"
   ]
  },
  {
   "cell_type": "code",
   "execution_count": 64,
   "id": "3e7c79f9-eb3b-48bf-90de-ac3e7432217e",
   "metadata": {},
   "outputs": [],
   "source": [
    "# Creating a copy for modeling\n",
    "model_df = df.copy()\n"
   ]
  },
  {
   "cell_type": "code",
   "execution_count": 65,
   "id": "7182e07e-9c65-4ab9-840a-4ca200828e01",
   "metadata": {},
   "outputs": [],
   "source": [
    "# Extracting useful information from anomaly flags\n",
    "model_df['has_anomaly'] = (model_df['anomalyFlags'] != 'NORMAL').astype(int)\n",
    "model_df['anomaly_count'] = model_df['anomalyFlags'].apply(\n",
    "    lambda x: len(x.split('|')) if x != 'NORMAL' else 0\n",
    ")"
   ]
  },
  {
   "cell_type": "code",
   "execution_count": 66,
   "id": "9f103e95-9714-4f47-95a9-58f2f00dd5fe",
   "metadata": {},
   "outputs": [],
   "source": [
    "# Create binary flags for major anomaly types\n",
    "model_df['has_geo_anomaly'] = model_df['anomalyFlags'].str.contains('GEO').fillna(0).astype(int)\n",
    "model_df['has_amount_anomaly'] = model_df['anomalyFlags'].str.contains('AMOUNT').fillna(0).astype(int)\n",
    "model_df['has_velocity_anomaly'] = model_df['anomalyFlags'].str.contains('FREQ|SUCCESSION').fillna(0).astype(int)\n",
    "model_df['has_balance_anomaly'] = model_df['anomalyFlags'].str.contains('BALANCE').fillna(0).astype(int)"
   ]
  },
  {
   "cell_type": "code",
   "execution_count": 67,
   "id": "22ef655d-7176-4511-9b00-322880ad3ae3",
   "metadata": {},
   "outputs": [],
   "source": [
    "# Encoding categorical variables\n",
    "label_encoders = {}\n",
    "categorical_columns = ['type', 'amount_category', 'risk_category']\n",
    "\n",
    "for col in categorical_columns:\n",
    "    if col in model_df.columns:\n",
    "        le = LabelEncoder()\n",
    "        model_df[f'{col}_encoded'] = le.fit_transform(model_df[col].astype(str))\n",
    "        label_encoders[col] = le"
   ]
  },
  {
   "cell_type": "code",
   "execution_count": 68,
   "id": "41226a87-bdbe-4498-816e-1f49e4364dbf",
   "metadata": {},
   "outputs": [],
   "source": [
    "# Creating time-based features\n",
    "model_df['hour_sin'] = np.sin(2 * np.pi * model_df['hour_of_day']/24)\n",
    "model_df['hour_cos'] = np.cos(2 * np.pi * model_df['hour_of_day']/24)"
   ]
  },
  {
   "cell_type": "markdown",
   "id": "aa94b9d5-fb44-4665-b552-e1395670ae96",
   "metadata": {},
   "source": [
    "SELECT FEATURES FOR MODELING"
   ]
  },
  {
   "cell_type": "code",
   "execution_count": 69,
   "id": "b001accd-a50c-4dc1-9ac5-9e9ca255c267",
   "metadata": {},
   "outputs": [],
   "source": [
    "# Defining features\n",
    "features = [\n",
    "    # Transaction features\n",
    "    'amount', 'amount_to_balance_ratio', 'is_round_amount',\n",
    "    'hour_sin', 'hour_cos', 'is_weekend', 'is_unusual_hours',\n",
    "    \n",
    "    # Balance features\n",
    "    'oldbalanceOrg', 'newbalanceOrig', 'oldbalanceDest', 'newbalanceDest',\n",
    "    \n",
    "    # Geographic features\n",
    "    'distance_km',\n",
    "    \n",
    "    # Anomaly features\n",
    "    'risk_score', 'anomaly_count', 'has_anomaly',\n",
    "    'has_geo_anomaly', 'has_amount_anomaly', 'has_velocity_anomaly', 'has_balance_anomaly',\n",
    "    \n",
    "    # Encoded categorical features\n",
    "    'type_encoded', 'amount_category_encoded', 'risk_category_encoded'\n",
    "]\n"
   ]
  },
  {
   "cell_type": "code",
   "execution_count": 70,
   "id": "c017f3ed-03f4-4210-bfc2-fff0f356eb52",
   "metadata": {},
   "outputs": [],
   "source": [
    "# Removing any columns that might not exist\n",
    "features = [col for col in features if col in model_df.columns]\n"
   ]
  },
  {
   "cell_type": "code",
   "execution_count": 71,
   "id": "1a864ade-c45f-4d32-9658-cb7c97e973ed",
   "metadata": {},
   "outputs": [
    {
     "data": {
      "text/plain": [
       "21"
      ]
     },
     "execution_count": 71,
     "metadata": {},
     "output_type": "execute_result"
    }
   ],
   "source": [
    "len(features)"
   ]
  },
  {
   "cell_type": "code",
   "execution_count": 72,
   "id": "4bdb8bb0-4a37-45f1-b661-614909af58a0",
   "metadata": {},
   "outputs": [
    {
     "data": {
      "text/plain": [
       "['amount',\n",
       " 'amount_to_balance_ratio',\n",
       " 'is_round_amount',\n",
       " 'hour_sin',\n",
       " 'hour_cos',\n",
       " 'is_weekend',\n",
       " 'oldbalanceOrg',\n",
       " 'newbalanceOrig',\n",
       " 'oldbalanceDest',\n",
       " 'newbalanceDest',\n",
       " 'distance_km',\n",
       " 'risk_score',\n",
       " 'anomaly_count',\n",
       " 'has_anomaly',\n",
       " 'has_geo_anomaly',\n",
       " 'has_amount_anomaly',\n",
       " 'has_velocity_anomaly',\n",
       " 'has_balance_anomaly',\n",
       " 'type_encoded',\n",
       " 'amount_category_encoded',\n",
       " 'risk_category_encoded']"
      ]
     },
     "execution_count": 72,
     "metadata": {},
     "output_type": "execute_result"
    }
   ],
   "source": [
    "list(features)"
   ]
  },
  {
   "cell_type": "code",
   "execution_count": 22,
   "id": "731ec14a-b02a-4cdb-9d0b-c9a7b67cd4c3",
   "metadata": {},
   "outputs": [],
   "source": [
    "# Handle missing values\n",
    "X = X.fillna(0)"
   ]
  },
  {
   "cell_type": "code",
   "execution_count": 23,
   "id": "6b5ed8fe-e46e-46b0-9841-bbfb3f4221c2",
   "metadata": {},
   "outputs": [
    {
     "data": {
      "text/plain": [
       "(2000, 21)"
      ]
     },
     "execution_count": 23,
     "metadata": {},
     "output_type": "execute_result"
    }
   ],
   "source": [
    "#Features shape\n",
    "X.shape"
   ]
  },
  {
   "cell_type": "code",
   "execution_count": 24,
   "id": "bdf54154-a90f-4ab0-911c-e14711004bab",
   "metadata": {},
   "outputs": [
    {
     "data": {
      "text/plain": [
       "{0: 1900, 1: 100}"
      ]
     },
     "execution_count": 24,
     "metadata": {},
     "output_type": "execute_result"
    }
   ],
   "source": [
    "#Target distribution\n",
    "y.value_counts().to_dict()"
   ]
  },
  {
   "cell_type": "code",
   "execution_count": 25,
   "id": "e4f5a199-f33d-4cbb-ba24-377e2639bb2a",
   "metadata": {},
   "outputs": [],
   "source": [
    "# Split the data\n",
    "X_train, X_test, y_train, y_test = train_test_split( X, y,  test_size=0.3,  random_state=42,  stratify=y)  # Important for imbalanced data"
   ]
  },
  {
   "cell_type": "code",
   "execution_count": 26,
   "id": "af624b3c-0f75-4e05-af40-af373aed27a9",
   "metadata": {},
   "outputs": [
    {
     "data": {
      "text/plain": [
       "(1400, 21)"
      ]
     },
     "execution_count": 26,
     "metadata": {},
     "output_type": "execute_result"
    }
   ],
   "source": [
    "#Training set\n",
    "X_train.shape"
   ]
  },
  {
   "cell_type": "code",
   "execution_count": 27,
   "id": "096eaba6-ea42-4c5e-8bb5-68aa9b26df92",
   "metadata": {},
   "outputs": [
    {
     "data": {
      "text/plain": [
       "(600, 21)"
      ]
     },
     "execution_count": 27,
     "metadata": {},
     "output_type": "execute_result"
    }
   ],
   "source": [
    "#Test set\n",
    "X_test.shape"
   ]
  },
  {
   "cell_type": "code",
   "execution_count": 28,
   "id": "a0559ac9-c5ed-4db4-8ddb-908504e7528b",
   "metadata": {},
   "outputs": [
    {
     "data": {
      "text/plain": [
       "70"
      ]
     },
     "execution_count": 28,
     "metadata": {},
     "output_type": "execute_result"
    }
   ],
   "source": [
    "#Anomaly in training\n",
    "y_train.sum()"
   ]
  },
  {
   "cell_type": "code",
   "execution_count": 29,
   "id": "2569cd93-7d26-4c8b-81fd-f270d7a15fb3",
   "metadata": {},
   "outputs": [
    {
     "data": {
      "text/plain": [
       "5.0"
      ]
     },
     "execution_count": 29,
     "metadata": {},
     "output_type": "execute_result"
    }
   ],
   "source": [
    "y_train.mean()*100"
   ]
  },
  {
   "cell_type": "code",
   "execution_count": 30,
   "id": "aff773f1-e015-44f9-b1cb-76d45b5dd859",
   "metadata": {},
   "outputs": [
    {
     "data": {
      "text/plain": [
       "30"
      ]
     },
     "execution_count": 30,
     "metadata": {},
     "output_type": "execute_result"
    }
   ],
   "source": [
    "#Anomaly in test\n",
    "y_test.sum()"
   ]
  },
  {
   "cell_type": "code",
   "execution_count": 31,
   "id": "2e5d2b35-f9e3-4006-badb-ccf92d613bbc",
   "metadata": {},
   "outputs": [
    {
     "data": {
      "text/plain": [
       "5.0"
      ]
     },
     "execution_count": 31,
     "metadata": {},
     "output_type": "execute_result"
    }
   ],
   "source": [
    "y_test.mean()*100"
   ]
  },
  {
   "cell_type": "code",
   "execution_count": 32,
   "id": "9a05da3f-a27c-4edb-9a49-702ea86387e8",
   "metadata": {},
   "outputs": [],
   "source": [
    "# Scale features\n",
    "scaler = StandardScaler()\n",
    "X_train_scaled = scaler.fit_transform(X_train)\n",
    "X_test_scaled = scaler.transform(X_test)"
   ]
  },
  {
   "cell_type": "markdown",
   "id": "f835f723-80d4-4162-8355-f50d3224bd1d",
   "metadata": {},
   "source": [
    "MODEL TRAINING "
   ]
  },
  {
   "cell_type": "code",
   "execution_count": 33,
   "id": "dc18cc49-e48d-48e8-83fd-259a2b614210",
   "metadata": {},
   "outputs": [],
   "source": [
    "\n",
    "model = RandomForestClassifier(\n",
    "    n_estimators=150,           # Slightly more trees for complex feature set\n",
    "    max_depth=12,               # Deeper trees to capture complex patterns\n",
    "    min_samples_split=15,       # Need at least 15 samples to split\n",
    "    min_samples_leaf=8,         # Need at least 8 samples per leaf\n",
    "    max_features='sqrt',        # Use sqrt(features) for each split\n",
    "    random_state=42,\n",
    "    class_weight='balanced',    # Handle imbalanced data\n",
    "    n_jobs=-1                   # Use all CPU cores for faster training\n",
    ")\n"
   ]
  },
  {
   "cell_type": "code",
   "execution_count": 34,
   "id": "d715c671-3546-494f-9840-3bb05fd1913b",
   "metadata": {},
   "outputs": [
    {
     "data": {
      "text/html": [
       "<style>#sk-container-id-1 {\n",
       "  /* Definition of color scheme common for light and dark mode */\n",
       "  --sklearn-color-text: black;\n",
       "  --sklearn-color-line: gray;\n",
       "  /* Definition of color scheme for unfitted estimators */\n",
       "  --sklearn-color-unfitted-level-0: #fff5e6;\n",
       "  --sklearn-color-unfitted-level-1: #f6e4d2;\n",
       "  --sklearn-color-unfitted-level-2: #ffe0b3;\n",
       "  --sklearn-color-unfitted-level-3: chocolate;\n",
       "  /* Definition of color scheme for fitted estimators */\n",
       "  --sklearn-color-fitted-level-0: #f0f8ff;\n",
       "  --sklearn-color-fitted-level-1: #d4ebff;\n",
       "  --sklearn-color-fitted-level-2: #b3dbfd;\n",
       "  --sklearn-color-fitted-level-3: cornflowerblue;\n",
       "\n",
       "  /* Specific color for light theme */\n",
       "  --sklearn-color-text-on-default-background: var(--sg-text-color, var(--theme-code-foreground, var(--jp-content-font-color1, black)));\n",
       "  --sklearn-color-background: var(--sg-background-color, var(--theme-background, var(--jp-layout-color0, white)));\n",
       "  --sklearn-color-border-box: var(--sg-text-color, var(--theme-code-foreground, var(--jp-content-font-color1, black)));\n",
       "  --sklearn-color-icon: #696969;\n",
       "\n",
       "  @media (prefers-color-scheme: dark) {\n",
       "    /* Redefinition of color scheme for dark theme */\n",
       "    --sklearn-color-text-on-default-background: var(--sg-text-color, var(--theme-code-foreground, var(--jp-content-font-color1, white)));\n",
       "    --sklearn-color-background: var(--sg-background-color, var(--theme-background, var(--jp-layout-color0, #111)));\n",
       "    --sklearn-color-border-box: var(--sg-text-color, var(--theme-code-foreground, var(--jp-content-font-color1, white)));\n",
       "    --sklearn-color-icon: #878787;\n",
       "  }\n",
       "}\n",
       "\n",
       "#sk-container-id-1 {\n",
       "  color: var(--sklearn-color-text);\n",
       "}\n",
       "\n",
       "#sk-container-id-1 pre {\n",
       "  padding: 0;\n",
       "}\n",
       "\n",
       "#sk-container-id-1 input.sk-hidden--visually {\n",
       "  border: 0;\n",
       "  clip: rect(1px 1px 1px 1px);\n",
       "  clip: rect(1px, 1px, 1px, 1px);\n",
       "  height: 1px;\n",
       "  margin: -1px;\n",
       "  overflow: hidden;\n",
       "  padding: 0;\n",
       "  position: absolute;\n",
       "  width: 1px;\n",
       "}\n",
       "\n",
       "#sk-container-id-1 div.sk-dashed-wrapped {\n",
       "  border: 1px dashed var(--sklearn-color-line);\n",
       "  margin: 0 0.4em 0.5em 0.4em;\n",
       "  box-sizing: border-box;\n",
       "  padding-bottom: 0.4em;\n",
       "  background-color: var(--sklearn-color-background);\n",
       "}\n",
       "\n",
       "#sk-container-id-1 div.sk-container {\n",
       "  /* jupyter's `normalize.less` sets `[hidden] { display: none; }`\n",
       "     but bootstrap.min.css set `[hidden] { display: none !important; }`\n",
       "     so we also need the `!important` here to be able to override the\n",
       "     default hidden behavior on the sphinx rendered scikit-learn.org.\n",
       "     See: https://github.com/scikit-learn/scikit-learn/issues/21755 */\n",
       "  display: inline-block !important;\n",
       "  position: relative;\n",
       "}\n",
       "\n",
       "#sk-container-id-1 div.sk-text-repr-fallback {\n",
       "  display: none;\n",
       "}\n",
       "\n",
       "div.sk-parallel-item,\n",
       "div.sk-serial,\n",
       "div.sk-item {\n",
       "  /* draw centered vertical line to link estimators */\n",
       "  background-image: linear-gradient(var(--sklearn-color-text-on-default-background), var(--sklearn-color-text-on-default-background));\n",
       "  background-size: 2px 100%;\n",
       "  background-repeat: no-repeat;\n",
       "  background-position: center center;\n",
       "}\n",
       "\n",
       "/* Parallel-specific style estimator block */\n",
       "\n",
       "#sk-container-id-1 div.sk-parallel-item::after {\n",
       "  content: \"\";\n",
       "  width: 100%;\n",
       "  border-bottom: 2px solid var(--sklearn-color-text-on-default-background);\n",
       "  flex-grow: 1;\n",
       "}\n",
       "\n",
       "#sk-container-id-1 div.sk-parallel {\n",
       "  display: flex;\n",
       "  align-items: stretch;\n",
       "  justify-content: center;\n",
       "  background-color: var(--sklearn-color-background);\n",
       "  position: relative;\n",
       "}\n",
       "\n",
       "#sk-container-id-1 div.sk-parallel-item {\n",
       "  display: flex;\n",
       "  flex-direction: column;\n",
       "}\n",
       "\n",
       "#sk-container-id-1 div.sk-parallel-item:first-child::after {\n",
       "  align-self: flex-end;\n",
       "  width: 50%;\n",
       "}\n",
       "\n",
       "#sk-container-id-1 div.sk-parallel-item:last-child::after {\n",
       "  align-self: flex-start;\n",
       "  width: 50%;\n",
       "}\n",
       "\n",
       "#sk-container-id-1 div.sk-parallel-item:only-child::after {\n",
       "  width: 0;\n",
       "}\n",
       "\n",
       "/* Serial-specific style estimator block */\n",
       "\n",
       "#sk-container-id-1 div.sk-serial {\n",
       "  display: flex;\n",
       "  flex-direction: column;\n",
       "  align-items: center;\n",
       "  background-color: var(--sklearn-color-background);\n",
       "  padding-right: 1em;\n",
       "  padding-left: 1em;\n",
       "}\n",
       "\n",
       "\n",
       "/* Toggleable style: style used for estimator/Pipeline/ColumnTransformer box that is\n",
       "clickable and can be expanded/collapsed.\n",
       "- Pipeline and ColumnTransformer use this feature and define the default style\n",
       "- Estimators will overwrite some part of the style using the `sk-estimator` class\n",
       "*/\n",
       "\n",
       "/* Pipeline and ColumnTransformer style (default) */\n",
       "\n",
       "#sk-container-id-1 div.sk-toggleable {\n",
       "  /* Default theme specific background. It is overwritten whether we have a\n",
       "  specific estimator or a Pipeline/ColumnTransformer */\n",
       "  background-color: var(--sklearn-color-background);\n",
       "}\n",
       "\n",
       "/* Toggleable label */\n",
       "#sk-container-id-1 label.sk-toggleable__label {\n",
       "  cursor: pointer;\n",
       "  display: block;\n",
       "  width: 100%;\n",
       "  margin-bottom: 0;\n",
       "  padding: 0.5em;\n",
       "  box-sizing: border-box;\n",
       "  text-align: center;\n",
       "}\n",
       "\n",
       "#sk-container-id-1 label.sk-toggleable__label-arrow:before {\n",
       "  /* Arrow on the left of the label */\n",
       "  content: \"▸\";\n",
       "  float: left;\n",
       "  margin-right: 0.25em;\n",
       "  color: var(--sklearn-color-icon);\n",
       "}\n",
       "\n",
       "#sk-container-id-1 label.sk-toggleable__label-arrow:hover:before {\n",
       "  color: var(--sklearn-color-text);\n",
       "}\n",
       "\n",
       "/* Toggleable content - dropdown */\n",
       "\n",
       "#sk-container-id-1 div.sk-toggleable__content {\n",
       "  max-height: 0;\n",
       "  max-width: 0;\n",
       "  overflow: hidden;\n",
       "  text-align: left;\n",
       "  /* unfitted */\n",
       "  background-color: var(--sklearn-color-unfitted-level-0);\n",
       "}\n",
       "\n",
       "#sk-container-id-1 div.sk-toggleable__content.fitted {\n",
       "  /* fitted */\n",
       "  background-color: var(--sklearn-color-fitted-level-0);\n",
       "}\n",
       "\n",
       "#sk-container-id-1 div.sk-toggleable__content pre {\n",
       "  margin: 0.2em;\n",
       "  border-radius: 0.25em;\n",
       "  color: var(--sklearn-color-text);\n",
       "  /* unfitted */\n",
       "  background-color: var(--sklearn-color-unfitted-level-0);\n",
       "}\n",
       "\n",
       "#sk-container-id-1 div.sk-toggleable__content.fitted pre {\n",
       "  /* unfitted */\n",
       "  background-color: var(--sklearn-color-fitted-level-0);\n",
       "}\n",
       "\n",
       "#sk-container-id-1 input.sk-toggleable__control:checked~div.sk-toggleable__content {\n",
       "  /* Expand drop-down */\n",
       "  max-height: 200px;\n",
       "  max-width: 100%;\n",
       "  overflow: auto;\n",
       "}\n",
       "\n",
       "#sk-container-id-1 input.sk-toggleable__control:checked~label.sk-toggleable__label-arrow:before {\n",
       "  content: \"▾\";\n",
       "}\n",
       "\n",
       "/* Pipeline/ColumnTransformer-specific style */\n",
       "\n",
       "#sk-container-id-1 div.sk-label input.sk-toggleable__control:checked~label.sk-toggleable__label {\n",
       "  color: var(--sklearn-color-text);\n",
       "  background-color: var(--sklearn-color-unfitted-level-2);\n",
       "}\n",
       "\n",
       "#sk-container-id-1 div.sk-label.fitted input.sk-toggleable__control:checked~label.sk-toggleable__label {\n",
       "  background-color: var(--sklearn-color-fitted-level-2);\n",
       "}\n",
       "\n",
       "/* Estimator-specific style */\n",
       "\n",
       "/* Colorize estimator box */\n",
       "#sk-container-id-1 div.sk-estimator input.sk-toggleable__control:checked~label.sk-toggleable__label {\n",
       "  /* unfitted */\n",
       "  background-color: var(--sklearn-color-unfitted-level-2);\n",
       "}\n",
       "\n",
       "#sk-container-id-1 div.sk-estimator.fitted input.sk-toggleable__control:checked~label.sk-toggleable__label {\n",
       "  /* fitted */\n",
       "  background-color: var(--sklearn-color-fitted-level-2);\n",
       "}\n",
       "\n",
       "#sk-container-id-1 div.sk-label label.sk-toggleable__label,\n",
       "#sk-container-id-1 div.sk-label label {\n",
       "  /* The background is the default theme color */\n",
       "  color: var(--sklearn-color-text-on-default-background);\n",
       "}\n",
       "\n",
       "/* On hover, darken the color of the background */\n",
       "#sk-container-id-1 div.sk-label:hover label.sk-toggleable__label {\n",
       "  color: var(--sklearn-color-text);\n",
       "  background-color: var(--sklearn-color-unfitted-level-2);\n",
       "}\n",
       "\n",
       "/* Label box, darken color on hover, fitted */\n",
       "#sk-container-id-1 div.sk-label.fitted:hover label.sk-toggleable__label.fitted {\n",
       "  color: var(--sklearn-color-text);\n",
       "  background-color: var(--sklearn-color-fitted-level-2);\n",
       "}\n",
       "\n",
       "/* Estimator label */\n",
       "\n",
       "#sk-container-id-1 div.sk-label label {\n",
       "  font-family: monospace;\n",
       "  font-weight: bold;\n",
       "  display: inline-block;\n",
       "  line-height: 1.2em;\n",
       "}\n",
       "\n",
       "#sk-container-id-1 div.sk-label-container {\n",
       "  text-align: center;\n",
       "}\n",
       "\n",
       "/* Estimator-specific */\n",
       "#sk-container-id-1 div.sk-estimator {\n",
       "  font-family: monospace;\n",
       "  border: 1px dotted var(--sklearn-color-border-box);\n",
       "  border-radius: 0.25em;\n",
       "  box-sizing: border-box;\n",
       "  margin-bottom: 0.5em;\n",
       "  /* unfitted */\n",
       "  background-color: var(--sklearn-color-unfitted-level-0);\n",
       "}\n",
       "\n",
       "#sk-container-id-1 div.sk-estimator.fitted {\n",
       "  /* fitted */\n",
       "  background-color: var(--sklearn-color-fitted-level-0);\n",
       "}\n",
       "\n",
       "/* on hover */\n",
       "#sk-container-id-1 div.sk-estimator:hover {\n",
       "  /* unfitted */\n",
       "  background-color: var(--sklearn-color-unfitted-level-2);\n",
       "}\n",
       "\n",
       "#sk-container-id-1 div.sk-estimator.fitted:hover {\n",
       "  /* fitted */\n",
       "  background-color: var(--sklearn-color-fitted-level-2);\n",
       "}\n",
       "\n",
       "/* Specification for estimator info (e.g. \"i\" and \"?\") */\n",
       "\n",
       "/* Common style for \"i\" and \"?\" */\n",
       "\n",
       ".sk-estimator-doc-link,\n",
       "a:link.sk-estimator-doc-link,\n",
       "a:visited.sk-estimator-doc-link {\n",
       "  float: right;\n",
       "  font-size: smaller;\n",
       "  line-height: 1em;\n",
       "  font-family: monospace;\n",
       "  background-color: var(--sklearn-color-background);\n",
       "  border-radius: 1em;\n",
       "  height: 1em;\n",
       "  width: 1em;\n",
       "  text-decoration: none !important;\n",
       "  margin-left: 1ex;\n",
       "  /* unfitted */\n",
       "  border: var(--sklearn-color-unfitted-level-1) 1pt solid;\n",
       "  color: var(--sklearn-color-unfitted-level-1);\n",
       "}\n",
       "\n",
       ".sk-estimator-doc-link.fitted,\n",
       "a:link.sk-estimator-doc-link.fitted,\n",
       "a:visited.sk-estimator-doc-link.fitted {\n",
       "  /* fitted */\n",
       "  border: var(--sklearn-color-fitted-level-1) 1pt solid;\n",
       "  color: var(--sklearn-color-fitted-level-1);\n",
       "}\n",
       "\n",
       "/* On hover */\n",
       "div.sk-estimator:hover .sk-estimator-doc-link:hover,\n",
       ".sk-estimator-doc-link:hover,\n",
       "div.sk-label-container:hover .sk-estimator-doc-link:hover,\n",
       ".sk-estimator-doc-link:hover {\n",
       "  /* unfitted */\n",
       "  background-color: var(--sklearn-color-unfitted-level-3);\n",
       "  color: var(--sklearn-color-background);\n",
       "  text-decoration: none;\n",
       "}\n",
       "\n",
       "div.sk-estimator.fitted:hover .sk-estimator-doc-link.fitted:hover,\n",
       ".sk-estimator-doc-link.fitted:hover,\n",
       "div.sk-label-container:hover .sk-estimator-doc-link.fitted:hover,\n",
       ".sk-estimator-doc-link.fitted:hover {\n",
       "  /* fitted */\n",
       "  background-color: var(--sklearn-color-fitted-level-3);\n",
       "  color: var(--sklearn-color-background);\n",
       "  text-decoration: none;\n",
       "}\n",
       "\n",
       "/* Span, style for the box shown on hovering the info icon */\n",
       ".sk-estimator-doc-link span {\n",
       "  display: none;\n",
       "  z-index: 9999;\n",
       "  position: relative;\n",
       "  font-weight: normal;\n",
       "  right: .2ex;\n",
       "  padding: .5ex;\n",
       "  margin: .5ex;\n",
       "  width: min-content;\n",
       "  min-width: 20ex;\n",
       "  max-width: 50ex;\n",
       "  color: var(--sklearn-color-text);\n",
       "  box-shadow: 2pt 2pt 4pt #999;\n",
       "  /* unfitted */\n",
       "  background: var(--sklearn-color-unfitted-level-0);\n",
       "  border: .5pt solid var(--sklearn-color-unfitted-level-3);\n",
       "}\n",
       "\n",
       ".sk-estimator-doc-link.fitted span {\n",
       "  /* fitted */\n",
       "  background: var(--sklearn-color-fitted-level-0);\n",
       "  border: var(--sklearn-color-fitted-level-3);\n",
       "}\n",
       "\n",
       ".sk-estimator-doc-link:hover span {\n",
       "  display: block;\n",
       "}\n",
       "\n",
       "/* \"?\"-specific style due to the `<a>` HTML tag */\n",
       "\n",
       "#sk-container-id-1 a.estimator_doc_link {\n",
       "  float: right;\n",
       "  font-size: 1rem;\n",
       "  line-height: 1em;\n",
       "  font-family: monospace;\n",
       "  background-color: var(--sklearn-color-background);\n",
       "  border-radius: 1rem;\n",
       "  height: 1rem;\n",
       "  width: 1rem;\n",
       "  text-decoration: none;\n",
       "  /* unfitted */\n",
       "  color: var(--sklearn-color-unfitted-level-1);\n",
       "  border: var(--sklearn-color-unfitted-level-1) 1pt solid;\n",
       "}\n",
       "\n",
       "#sk-container-id-1 a.estimator_doc_link.fitted {\n",
       "  /* fitted */\n",
       "  border: var(--sklearn-color-fitted-level-1) 1pt solid;\n",
       "  color: var(--sklearn-color-fitted-level-1);\n",
       "}\n",
       "\n",
       "/* On hover */\n",
       "#sk-container-id-1 a.estimator_doc_link:hover {\n",
       "  /* unfitted */\n",
       "  background-color: var(--sklearn-color-unfitted-level-3);\n",
       "  color: var(--sklearn-color-background);\n",
       "  text-decoration: none;\n",
       "}\n",
       "\n",
       "#sk-container-id-1 a.estimator_doc_link.fitted:hover {\n",
       "  /* fitted */\n",
       "  background-color: var(--sklearn-color-fitted-level-3);\n",
       "}\n",
       "</style><div id=\"sk-container-id-1\" class=\"sk-top-container\"><div class=\"sk-text-repr-fallback\"><pre>RandomForestClassifier(class_weight=&#x27;balanced&#x27;, max_depth=12,\n",
       "                       min_samples_leaf=8, min_samples_split=15,\n",
       "                       n_estimators=150, n_jobs=-1, random_state=42)</pre><b>In a Jupyter environment, please rerun this cell to show the HTML representation or trust the notebook. <br />On GitHub, the HTML representation is unable to render, please try loading this page with nbviewer.org.</b></div><div class=\"sk-container\" hidden><div class=\"sk-item\"><div class=\"sk-estimator fitted sk-toggleable\"><input class=\"sk-toggleable__control sk-hidden--visually\" id=\"sk-estimator-id-1\" type=\"checkbox\" checked><label for=\"sk-estimator-id-1\" class=\"sk-toggleable__label fitted sk-toggleable__label-arrow fitted\">&nbsp;&nbsp;RandomForestClassifier<a class=\"sk-estimator-doc-link fitted\" rel=\"noreferrer\" target=\"_blank\" href=\"https://scikit-learn.org/1.4/modules/generated/sklearn.ensemble.RandomForestClassifier.html\">?<span>Documentation for RandomForestClassifier</span></a><span class=\"sk-estimator-doc-link fitted\">i<span>Fitted</span></span></label><div class=\"sk-toggleable__content fitted\"><pre>RandomForestClassifier(class_weight=&#x27;balanced&#x27;, max_depth=12,\n",
       "                       min_samples_leaf=8, min_samples_split=15,\n",
       "                       n_estimators=150, n_jobs=-1, random_state=42)</pre></div> </div></div></div></div>"
      ],
      "text/plain": [
       "RandomForestClassifier(class_weight='balanced', max_depth=12,\n",
       "                       min_samples_leaf=8, min_samples_split=15,\n",
       "                       n_estimators=150, n_jobs=-1, random_state=42)"
      ]
     },
     "execution_count": 34,
     "metadata": {},
     "output_type": "execute_result"
    }
   ],
   "source": [
    "# Train the model\n",
    "model.fit(X_train, y_train)\n",
    "   "
   ]
  },
  {
   "cell_type": "markdown",
   "id": "a736902f-5206-4b2a-9e97-d146a4bbc66b",
   "metadata": {},
   "source": [
    "\n",
    "EVALUATE THE MODEL\n",
    "   \n"
   ]
  },
  {
   "cell_type": "code",
   "execution_count": 35,
   "id": "5acf17d5-0817-4734-a0fe-ba0a54e764b1",
   "metadata": {},
   "outputs": [],
   "source": [
    "# Make predictions\n",
    "y_pred = model.predict(X_test)\n",
    "y_pred_proba = model.predict_proba(X_test)[:, 1]"
   ]
  },
  {
   "cell_type": "code",
   "execution_count": 36,
   "id": "1a85b9b9-2f32-445a-b180-84a082dace24",
   "metadata": {},
   "outputs": [],
   "source": [
    "# Calculate key metrics\n",
    "accuracy = (y_pred == y_test).mean()\n",
    "precision = (y_pred & y_test).sum() / (y_pred.sum() + 1e-8)  # Avoid division by zero\n",
    "recall = (y_pred & y_test).sum() / (y_test.sum() + 1e-8)\n",
    "f1 = 2 * (precision * recall) / (precision + recall + 1e-8)\n",
    "auc_score = roc_auc_score(y_test, y_pred_proba)"
   ]
  },
  {
   "cell_type": "markdown",
   "id": "f847c994-952b-48d7-b5fb-5e3c90bbd45f",
   "metadata": {},
   "source": [
    "PERFORMANCE METRICS\n"
   ]
  },
  {
   "cell_type": "code",
   "execution_count": 37,
   "id": "0810a04a-1c29-430f-9036-245c21ef34a7",
   "metadata": {},
   "outputs": [
    {
     "name": "stdout",
     "output_type": "stream",
     "text": [
      "   Accuracy:  1.0000\n",
      "   Precision: 1.0000  ← Low false positives\n",
      "   Recall:    1.0000     ← High anomaly detection\n",
      "   F1-Score:  1.0000       ← Overall balance\n",
      "   AUC Score: 1.0000  ← Excellent metric for imbalanced data\n"
     ]
    }
   ],
   "source": [
    "print(f\"   Accuracy:  {accuracy:.4f}\")\n",
    "print(f\"   Precision: {precision:.4f}  ← Low false positives\")\n",
    "print(f\"   Recall:    {recall:.4f}     ← High anomaly detection\")\n",
    "print(f\"   F1-Score:  {f1:.4f}       ← Overall balance\")\n",
    "print(f\"   AUC Score: {auc_score:.4f}  ← Excellent metric for imbalanced data\")"
   ]
  },
  {
   "cell_type": "code",
   "execution_count": 38,
   "id": "a14c6130-5c5d-45b0-9db1-bf23234d0a9e",
   "metadata": {},
   "outputs": [
    {
     "name": "stdout",
     "output_type": "stream",
     "text": [
      "              precision    recall  f1-score   support\n",
      "\n",
      "  Legitimate       1.00      1.00      1.00       570\n",
      "     Anomaly       1.00      1.00      1.00        30\n",
      "\n",
      "    accuracy                           1.00       600\n",
      "   macro avg       1.00      1.00      1.00       600\n",
      "weighted avg       1.00      1.00      1.00       600\n",
      "\n"
     ]
    }
   ],
   "source": [
    "# Detailed classification report\n",
    "\n",
    "print(classification_report(y_test, y_pred, target_names=['Legitimate', 'Anomaly']))\n"
   ]
  },
  {
   "cell_type": "markdown",
   "id": "68189b45-422a-4468-8cdf-6c7ead49345b",
   "metadata": {},
   "source": [
    "FEATURE IMPORTANCE ANALYSIS"
   ]
  },
  {
   "cell_type": "code",
   "execution_count": 39,
   "id": "33fda27b-69bd-49ee-a2db-1338be11aae6",
   "metadata": {},
   "outputs": [],
   "source": [
    "available_features = [f for f in features if f in df.columns]"
   ]
  },
  {
   "cell_type": "code",
   "execution_count": 49,
   "id": "5863d111-a4f6-4c28-988f-1cac686dc905",
   "metadata": {},
   "outputs": [],
   "source": [
    "feature_imp = pd.DataFrame({\n",
    "        'feature': features[:min_length],\n",
    "        'importance': model.feature_importances_[:min_length]\n",
    "    }).sort_values('importance', ascending=False)\n"
   ]
  },
  {
   "cell_type": "code",
   "execution_count": 50,
   "id": "3d2235b2-1cae-4a92-91ff-ff6f69dd52c3",
   "metadata": {},
   "outputs": [
    {
     "name": "stdout",
     "output_type": "stream",
     "text": [
      "   amount: 0.2386\n",
      "   amount_to_balance_ratio: 0.0427\n",
      "   newbalanceDest: 0.0096\n",
      "   newbalanceOrig: 0.0090\n",
      "   oldbalanceOrg: 0.0015\n",
      "   hour_cos: 0.0014\n",
      "   hour_sin: 0.0013\n",
      "   oldbalanceDest: 0.0012\n",
      "   distance_km: 0.0010\n",
      "   is_weekend: 0.0004\n"
     ]
    }
   ],
   "source": [
    "for idx, row in feature_imp.head(10).iterrows():\n",
    "    print(f\"   {row['feature']}: {row['importance']:.4f}\")"
   ]
  },
  {
   "cell_type": "code",
   "execution_count": 51,
   "id": "9d209a12-615a-4eff-a654-1e0dabdb4469",
   "metadata": {},
   "outputs": [
    {
     "data": {
      "image/png": "[encoded data removed]",
      "text/plain": [
       "<Figure size 1200x800 with 1 Axes>"
      ]
     },
     "metadata": {},
     "output_type": "display_data"
    }
   ],
   "source": [
    "# Visualize feature importance\n",
    "plt.figure(figsize=(12, 8))\n",
    "sns.barplot(data=feature_imp.head(15), x='importance', y='feature', palette='viridis')\n",
    "plt.title('Top 15 Feature Importances for Anomaly Detection', fontsize=14, fontweight='bold')\n",
    "plt.xlabel('Importance Score', fontsize=12)\n",
    "plt.tight_layout()\n",
    "plt.show()"
   ]
  },
  {
   "cell_type": "markdown",
   "id": "fd7b506d-dcc3-454a-b6d9-9a4e093fd049",
   "metadata": {},
   "source": [
    "CONFUSION MATRIX"
   ]
  },
  {
   "cell_type": "code",
   "execution_count": 52,
   "id": "f8e6a83f-2b17-46ea-97bd-5009b6c61825",
   "metadata": {},
   "outputs": [
    {
     "data": {
      "image/png": "[encoded data removed]",
      "text/plain": [
       "<Figure size 1000x800 with 2 Axes>"
      ]
     },
     "metadata": {},
     "output_type": "display_data"
    }
   ],
   "source": [
    "\n",
    "cm = confusion_matrix(y_test, y_pred)\n",
    "\n",
    "plt.figure(figsize=(10, 8))\n",
    "sns.heatmap(cm, annot=True, fmt='d', cmap='Blues', \n",
    "            xticklabels=['Predicted Legit', 'Predicted Anomaly'],\n",
    "            yticklabels=['Actual Legit', 'Actual Anomaly'])\n",
    "plt.title('Confusion Matrix - Anomaly Detection Model', fontsize=14, fontweight='bold')\n",
    "plt.ylabel('Actual')\n",
    "plt.xlabel('Predicted')\n",
    "plt.show()"
   ]
  },
  {
   "cell_type": "code",
   "execution_count": 53,
   "id": "b9e41487-0dc2-4cf1-ba3e-c26b51a20bfd",
   "metadata": {},
   "outputs": [],
   "source": [
    "# Calculate business metrics\n",
    "tn, fp, fn, tp = cm.ravel()\n",
    "false_positive_rate = fp / (fp + tn)\n",
    "false_negative_rate = fn / (fn + tp)"
   ]
  },
  {
   "cell_type": "code",
   "execution_count": 54,
   "id": "346d332a-2049-42ef-a114-2d8a4333d6a7",
   "metadata": {},
   "outputs": [
    {
     "name": "stdout",
     "output_type": "stream",
     "text": [
      "   False Positive Rate: 0.0000 (Legit transactions flagged as anomaly)\n",
      "   False Negative Rate: 0.0000 (Anomaly transactions missed)\n",
      "   Anomaly Detection Rate: 1.0000 (Anomaly cases correctly identified)\n"
     ]
    }
   ],
   "source": [
    "print(f\"   False Positive Rate: {false_positive_rate:.4f} (Legit transactions flagged as anomaly)\")\n",
    "print(f\"   False Negative Rate: {false_negative_rate:.4f} (Anomaly transactions missed)\")\n",
    "print(f\"   Anomaly Detection Rate: {recall:.4f} (Anomaly cases correctly identified)\")\n"
   ]
  },
  {
   "cell_type": "markdown",
   "id": "47fea74d-60fc-40f2-8593-c6ac759d4c26",
   "metadata": {},
   "source": [
    "SAVE THE MODEL WITH METADATA"
   ]
  },
  {
   "cell_type": "code",
   "execution_count": 74,
   "id": "84f3dd97-d6cb-43d3-8e43-bd5f18933180",
   "metadata": {},
   "outputs": [],
   "source": [
    "model_artifacts = {\n",
    "    'model': model,\n",
    "    'features': features,\n",
    "    'feature_importance': feature_imp,\n",
    "    'performance': {\n",
    "        'accuracy': accuracy,\n",
    "        'precision': precision,\n",
    "        'recall': recall,\n",
    "        'f1_score': f1,\n",
    "        'auc_score': auc_score,\n",
    "        'false_positive_rate': false_positive_rate,\n",
    "        'false_negative_rate': false_negative_rate\n",
    "    },\n",
    "    'training_info': {\n",
    "        'training_samples': len(X_train),\n",
    "        'test_samples': len(X_test),\n",
    "        'fraud_ratio': y_train.mean()\n",
    "    }\n",
    "}\n"
   ]
  },
  {
   "cell_type": "code",
   "execution_count": 75,
   "id": "bce4aa7b-e95e-4953-b8b2-6322e177a91b",
   "metadata": {},
   "outputs": [
    {
     "data": {
      "text/plain": [
       "['anomaly_detection_model.pkl']"
      ]
     },
     "execution_count": 75,
     "metadata": {},
     "output_type": "execute_result"
    }
   ],
   "source": [
    "joblib.dump(model_artifacts, 'anomaly_detection_model.pkl')"
   ]
  },
  {
   "cell_type": "markdown",
   "id": "7981e73d-e465-4f02-90c9-8f10b448c0a3",
   "metadata": {},
   "source": [
    "Prediction Function"
   ]
  },
  {
   "cell_type": "code",
   "execution_count": 76,
   "id": "b70ede33-de72-4894-b78e-69b5b788f605",
   "metadata": {},
   "outputs": [],
   "source": [
    "def predict_anomaly_transaction(new_data, model_path='anomaly_detection_model.pkl', threshold=0.5):\n",
    "    \"\"\"\n",
    "    Predicting anomaly for new transactions using the optimized model\n",
    "    \"\"\"\n",
    "    # Loading model artifacts\n",
    "    artifacts = joblib.load(model_path)\n",
    "    model = artifacts['model']\n",
    "    features = artifacts['features']\n",
    "    \n",
    "    # Preparing features\n",
    "    X_new = new_data[features].fillna(0)\n",
    "    \n",
    "    # Making predictions\n",
    "    probabilities = model.predict_proba(X_new)[:, 1]\n",
    "    predictions = (probabilities >= threshold).astype(int)\n",
    "    \n",
    "    # Creating detailed results\n",
    "    results = pd.DataFrame({\n",
    "        'anomaly_probability': probabilities,\n",
    "        'is_anomaly_predicted': predictions,\n",
    "        'risk_level': pd.cut(probabilities, \n",
    "                           bins=[0, 0.2, 0.5, 0.8, 1.0], \n",
    "                           labels=['Low', 'Medium', 'High', 'Critical'])\n",
    "    })\n",
    "    \n",
    "    return results\n",
    "\n",
    "\n"
   ]
  },
  {
   "cell_type": "code",
   "execution_count": 77,
   "id": "e28730b3-55bf-4423-92db-18c1c1b7d478",
   "metadata": {},
   "outputs": [
    {
     "name": "stdout",
     "output_type": "stream",
     "text": [
      "   anomaly_probability  is_anomaly_predicted risk_level\n",
      "0             0.000000                     0        NaN\n",
      "1             0.000000                     0        NaN\n",
      "2             0.000000                     0        NaN\n",
      "3             0.000000                     0        NaN\n",
      "4             0.000000                     0        NaN\n",
      "5             0.000000                     0        NaN\n",
      "6             0.000000                     0        NaN\n",
      "7             0.999645                     1   Critical\n",
      "8             0.005067                     0        Low\n",
      "9             0.000000                     0        NaN\n"
     ]
    }
   ],
   "source": [
    "# Testing the function\n",
    "\n",
    "sample_data = X_test.iloc[:10].copy()\n",
    "predictions = predict_anomaly_transaction(sample_data)\n",
    "print(predictions)"
   ]
  },
  {
   "cell_type": "markdown",
   "id": "9c003f12-bde9-4465-b0c3-1ab4bcd78f9f",
   "metadata": {},
   "source": [
    "FINAL SUMMARY"
   ]
  },
  {
   "cell_type": "code",
   "execution_count": 78,
   "id": "f9fdee4b-9bfb-492a-b46d-d683ee484f18",
   "metadata": {},
   "outputs": [
    {
     "name": "stdout",
     "output_type": "stream",
     "text": [
      "   Model: Random Forest Classifier (Optimized)\n",
      "   Features: 11 comprehensive features\n",
      "   Fraud Detection Rate: 100.0%\n",
      "   Precision: 100.0% (Low false alarms)\n",
      "   Overall Performance (F1): 100.0%\n",
      "   AUC Score: 1.000\n"
     ]
    }
   ],
   "source": [
    "#MODEL PERFORMANCE SUMMARY\n",
    "print(f\"   Model: Random Forest Classifier (Optimized)\")\n",
    "print(f\"   Features: {len(available_features)} comprehensive features\")\n",
    "print(f\"   Fraud Detection Rate: {recall:.1%}\")\n",
    "print(f\"   Precision: {precision:.1%} (Low false alarms)\")\n",
    "print(f\"   Overall Performance (F1): {f1:.1%}\")\n",
    "print(f\"   AUC Score: {auc_score:.3f}\")"
   ]
  },
  {
   "cell_type": "code",
   "execution_count": 79,
   "id": "ac15c98c-e5ea-49cc-8b3c-35d5232e8a83",
   "metadata": {},
   "outputs": [
    {
     "name": "stdout",
     "output_type": "stream",
     "text": [
      "   1. amount (0.239)\n",
      "   2. amount_to_balance_ratio (0.043)\n",
      "   10. newbalanceDest (0.010)\n",
      "   8. newbalanceOrig (0.009)\n",
      "   7. oldbalanceOrg (0.001)\n"
     ]
    }
   ],
   "source": [
    "#TOP 5 ANOMALY INDICATORS\n",
    "for idx, row in feature_imp.head(5).iterrows():\n",
    "    print(f\"   {idx+1}. {row['feature']} ({row['importance']:.3f})\")"
   ]
  },
  {
   "cell_type": "code",
   "execution_count": 82,
   "id": "2f760f94-5dda-4888-92b2-0981e1cbbe68",
   "metadata": {},
   "outputs": [
    {
     "name": "stdout",
     "output_type": "stream",
     "text": [
      "\n",
      " Model saved: 'anomaly_detection_model.pkl'\n",
      " Features used: 21\n"
     ]
    }
   ],
   "source": [
    "print(f\"\\n Model saved: 'anomaly_detection_model.pkl'\")\n",
    "print(f\" Features used: {len(features)}\")"
   ]
  },
  {
   "cell_type": "code",
   "execution_count": 83,
   "id": "45612f13-4b8a-4293-ad60-1cb59c5e80dd",
   "metadata": {},
   "outputs": [
    {
     "name": "stdout",
     "output_type": "stream",
     "text": [
      "\n",
      "# Load new data\n",
      "new_transactions = pd.read_csv('new_data.csv')\n",
      "\n",
      "# Make predictions\n",
      "results = predict_anomaly_transaction(new_transactions)\n",
      "\n",
      "# High-risk transactions\n",
      "high_risk = results[results['risk_level'].isin(['High', 'Critical'])]\n",
      "print(f\"Found {len(high_risk)} high-risk transactions\")\n",
      "\n"
     ]
    }
   ],
   "source": [
    "# HOW TO USE FOR NEW TRANSACTIONS\n",
    "print(\"\"\"\n",
    "# Load new data\n",
    "new_transactions = pd.read_csv('new_data.csv')\n",
    "\n",
    "# Make predictions\n",
    "results = predict_anomaly_transaction(new_transactions)\n",
    "\n",
    "# High-risk transactions\n",
    "high_risk = results[results['risk_level'].isin(['High', 'Critical'])]\n",
    "print(f\"Found {len(high_risk)} high-risk transactions\")\n",
    "\"\"\")"
   ]
  },
  {
   "cell_type": "code",
   "execution_count": null,
   "id": "3694fcb7-c36b-4b9d-ba9b-ed8c23638e56",
   "metadata": {},
   "outputs": [],
   "source": []
  }
 ],
 "metadata": {
  "kernelspec": {
   "display_name": "Python 3 (ipykernel)",
   "language": "python",
   "name": "python3"
  },
  "language_info": {
   "codemirror_mode": {
    "name": "ipython",
    "version": 3
   },
   "file_extension": ".py",
   "mimetype": "text/x-python",
   "name": "python",
   "nbconvert_exporter": "python",
   "pygments_lexer": "ipython3",
   "version": "3.12.4"
  }
 },
 "nbformat": 4,
 "nbformat_minor": 5
}
